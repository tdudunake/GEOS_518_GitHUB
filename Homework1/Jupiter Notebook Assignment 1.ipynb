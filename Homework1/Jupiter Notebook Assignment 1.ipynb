{
 "cells": [
  {
   "cell_type": "markdown",
   "metadata": {},
   "source": [
    "# GEOS 518: Jupyter Notebook Assignment #1\n",
    "\n",
    "## Taylor Dudunake\n",
    "Due: 07/02/18"
   ]
  },
  {
   "cell_type": "markdown",
   "metadata": {},
   "source": [
    "> **Instructions:** In this Jupyter notebook, you will should perform the following tasks with your chosen dataset:\n",
    "1. Import it and create a plot\n",
    "2. Compute and show key descriptive statistics about the time series that might include the mean, variance, and/or histograms\n",
    "3. Assess the stationarity of the time series in one or both of the following ways: (1) compute and report the slope of a regression line through time (and it's significance), (2) compute and report the [Augmented Dickey-Fuller test](https://machinelearningmastery.com/time-series-data-stationary-python/)\n",
    "4. Compute and plot the autocorrelation function of the time series. Note that if your examination reveals that the time series likely has a significant trend through time, you should either attempt to detrend it, or discuss the ramifications of not doing so at length.\n",
    "5. Discuss in detail the results of your analyses in terms of the physical reasons that you observe the trends you see. For example, can you explain why the autocorrelation function behaves as you observe it to based on physical intuition?\n",
    "\n",
    "> Characteristics of exemplary work:\n",
    "* You use available libraries and (in comments) justify their use\n",
    "* Your code is well commented and you describe each step that you are doing in your code\n",
    "* Your plots are adequately sized. Axes, plots and legends labeled with font sizes that are readable. The marker and line styles and sizes are appropriate\n",
    "* You use Markdown cells to describe, in detail what each code cell is doing. Markdown cells and code cells are adequately\n",
    "* Your notebook response contains a Markdown cell that provides an overview of the problem statement, your approach, and key findings (i.e., these three things should correspond to sections)\n",
    "\n",
    "## Preliminary Tasks: loading libraries"
   ]
  },
  {
   "cell_type": "code",
   "execution_count": null,
   "metadata": {
    "collapsed": true
   },
   "outputs": [],
   "source": [
    "# This library is required for data management tasks\n",
    "import pandas as pd\n",
    "\n",
    "# This library is required for computation tasks useful for this analysis\n",
    "import numpy as np \n",
    "\n",
    "# This library is required for all things plotting\n",
    "import matplotlib.pyplot as plt \n",
    "\n",
    "# This specific Pandas ibrary generates an autocorrelation plot\n",
    "from pandas.plotting import autocorrelation_plot"
   ]
  },
  {
   "cell_type": "markdown",
   "metadata": {},
   "source": [
    "## Task 1.1 Load the data into a usable format"
   ]
  },
  {
   "cell_type": "code",
   "execution_count": null,
   "metadata": {},
   "outputs": [],
   "source": [
    "# Import using pandas function for reading a csv file. It's also important to view and\n",
    "# inspect the data to ensure everything is properly formatted. In this case, I look at\n",
    "# the first and last 10 discharge measurememnts for this period of record (WY 2001-2017)\n",
    "df = pd.read_csv('MF_Boise_cfs.csv', names=['Y','M','D','Q'], skiprows=1)\n",
    "qrows = np.concatenate([np.arange(0,10,1),np.arange(-11,-1,1)])\n",
    "df.iloc[qrows,:]\n",
    "\n",
    "# This line of code reformats the original date and time to be readable in the following \n",
    "# functions.\n",
    "df['SerDates'] = pd.to_datetime(df.Y*10000+df.M*100+df.D,format='%Y%m%d')\n",
    "\n",
    "# Here's what the first and last 10 records of the modified dataframe looks like\n",
    "df.iloc[qrows,:]"
   ]
  },
  {
   "cell_type": "markdown",
   "metadata": {
    "collapsed": true
   },
   "source": [
    "## Task 1.2 Plot time series data"
   ]
  },
  {
   "cell_type": "code",
   "execution_count": null,
   "metadata": {},
   "outputs": [],
   "source": [
    "# Use the pandas plotting function, specifying 'SerDates' (the serial datas) on the x axis and 'Q' (discharge)\n",
    "# on the y axis. I'm also using the 'figsize' option to increase the size of the plotted image\n",
    "df.plot(x='SerDates', y='Q',figsize=(10,10))\n",
    "plt.xlabel('Date')\n",
    "plt.ylabel('Q (cms)')\n",
    "plt.show()"
   ]
  },
  {
   "cell_type": "markdown",
   "metadata": {},
   "source": [
    "## Task 2.1 Compute and examine key descriptive statistics"
   ]
  },
  {
   "cell_type": "code",
   "execution_count": null,
   "metadata": {},
   "outputs": [],
   "source": [
    "# Generate a histogram to examine stationarity of time series data\n",
    "x = df.Q\n",
    "n, bins, patches = plt.hist(x, 20, facecolor='blue', alpha=0.5)\n",
    "plt.xlabel('cfs')\n",
    "plt.title(\"Histogram of Middle Fork Boise River Discharge\")\n",
    "plt.figure(figsize=(10,10))\n",
    "plt.show()\n",
    "\n",
    "plt.plot\n",
    "# Doing so displays a dataset that appears to be non-stationary."
   ]
  },
  {
   "cell_type": "code",
   "execution_count": null,
   "metadata": {},
   "outputs": [],
   "source": [
    "# Log transforming the data also displays an indicator of a non-stationary dataset.\n",
    "X = df.Q.values \n",
    "X = log(X)\n",
    "plt.hist(X)\n",
    "plt.show()"
   ]
  },
  {
   "cell_type": "code",
   "execution_count": null,
   "metadata": {},
   "outputs": [],
   "source": [
    "# To calculate, I first use the \"describe\" function to obtain basic descriptive statistics for my time series\n",
    "# data. These statistics include mean, standard deviation, minimum, 25%, 50%, and 75% quartile,\n",
    "# as well as maximum. This function can be found in the Pandas library.\n",
    "df.Q.describe()"
   ]
  },
  {
   "cell_type": "code",
   "execution_count": null,
   "metadata": {},
   "outputs": [],
   "source": [
    "# Next, I calculate the variance of all discharge data using a Pandas variance function\n",
    "df.Q.var()"
   ]
  },
  {
   "cell_type": "code",
   "execution_count": null,
   "metadata": {},
   "outputs": [],
   "source": [
    "from statsmodels.tsa.stattools import adfuller\n",
    "X = df.values\n",
    "result = adfuller(X)\n",
    "print('ADF Statistic: %f' % result[0])\n",
    "print('p-value: %f' % result[1])\n",
    "for key, value in result[4].items():\n",
    "    print('\\t%s: %f' % (key, value))"
   ]
  },
  {
   "cell_type": "code",
   "execution_count": null,
   "metadata": {},
   "outputs": [],
   "source": [
    "autocorrelation_plot(df['Q'])\n",
    "plt.ylim(-0.5,1.0)\n",
    "plt.show()"
   ]
  }
 ],
 "metadata": {
  "kernelspec": {
   "display_name": "Python 3",
   "language": "python",
   "name": "python3"
  },
  "language_info": {
   "codemirror_mode": {
    "name": "ipython",
    "version": 3
   },
   "file_extension": ".py",
   "mimetype": "text/x-python",
   "name": "python",
   "nbconvert_exporter": "python",
   "pygments_lexer": "ipython3",
   "version": "3.6.3"
  }
 },
 "nbformat": 4,
 "nbformat_minor": 2
}
