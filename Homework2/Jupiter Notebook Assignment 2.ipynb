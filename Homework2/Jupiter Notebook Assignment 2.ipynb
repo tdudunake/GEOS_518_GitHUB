{
 "cells": [
  {
   "cell_type": "markdown",
   "metadata": {},
   "source": [
    "# GEOS 518: Jupyter Notebook Assignment #2: Auto Regressive Models\n",
    "\n",
    "## Taylor Dudunake\n",
    "Due: 3/12/18"
   ]
  },
  {
   "cell_type": "markdown",
   "metadata": {},
   "source": [
    "** In this Jupyter Notebook, I will complete the following tasks for discharge data at Middle Fork Boise River near Twin Springs (USGS 13184500): **\n",
    "1. Read in dataset and perform any additional pre-processing needed\n",
    "2. Split dataset into a \"training\" dataset used to estimate the parameters of the AR model, and a \"test\" dataset against which I will test the model\n",
    "3. Estimate the parameters of an AR(1) model using the training dataset\n",
    "    * Compute the autocorrelation function\n",
    "    * Use the YW Equations to estimate the AR(1) parameters\n",
    "    * Use the statsmodel AR tools to estimate the parameters based on the dataset\n",
    "    * Compare the YW parameters to those from the statsmodel library\n",
    "4. Estimate the parameters of an AR(2) model using the training dataset\n",
    "    * Use the YW equations to estimate the AR(2) parameters\n",
    "    * Use the statsmodel AR tools to estimate the parameters based on the dataset\n",
    "    * Compare the YW parameters to those from the statsmodel library\n",
    "5. Apply the AR(1) and AR(2) models to the \"test\" dataset (the one withheld from parameter estimation)\n",
    "6. Plot the modeled time series for the AR(1) and AR(2) models against the observed time series for comparison\n",
    "7. Comment on key differences and distinctions between the models themselves and the extent to which they reproduce the observations\n",
    "\n",
    "## Preliminary Tasks: loading libraries\n",
    "This cell imports necessary libraries to perform tasks in this Jupyter Notebook"
   ]
  },
  {
   "cell_type": "code",
   "execution_count": 12,
   "metadata": {},
   "outputs": [],
   "source": [
    "import pandas as pd # Required for data management tasks\n",
    "\n",
    "import numpy as np # Required for computation tasks useful for this analysis\n",
    "\n",
    "import matplotlib.pyplot as plt # Required for all things plotting\n",
    "\n",
    "from pandas.plotting import autocorrelation_plot # Generates an autocorrelation plot\n",
    "\n",
    "import statsmodels.tsa.api as sm # Required for ADF Test"
   ]
  },
  {
   "cell_type": "markdown",
   "metadata": {},
   "source": [
    "## Task 1. Read in dataset and perform any additional pre-processing needed\n",
    "These cells import discharge data from .pkl file previously generated. It's important to view and inspect the data to ensure everything is properly formatted. In this case, the dates are properly formatted in the heading \"SerDates\". For the following tasks, I also need to describe each data entry by its water year."
   ]
  },
  {
   "cell_type": "code",
   "execution_count": 2,
   "metadata": {},
   "outputs": [],
   "source": [
    "# Load the MF Boise discharge dataset\n",
    "df = pd.read_pickle('MFBoiseDischarge_WY2001-2017.pkl')\n",
    "Q = df['Q (cms)'].values # sets discharge data in dataframe to a variable\n",
    "day_num = np.arange(0,np.size(Q),1)"
   ]
  },
  {
   "cell_type": "code",
   "execution_count": 3,
   "metadata": {},
   "outputs": [
    {
     "data": {
      "text/html": [
       "<div>\n",
       "<style>\n",
       "    .dataframe thead tr:only-child th {\n",
       "        text-align: right;\n",
       "    }\n",
       "\n",
       "    .dataframe thead th {\n",
       "        text-align: left;\n",
       "    }\n",
       "\n",
       "    .dataframe tbody tr th {\n",
       "        vertical-align: top;\n",
       "    }\n",
       "</style>\n",
       "<table border=\"1\" class=\"dataframe\">\n",
       "  <thead>\n",
       "    <tr style=\"text-align: right;\">\n",
       "      <th></th>\n",
       "      <th>Y</th>\n",
       "      <th>M</th>\n",
       "      <th>D</th>\n",
       "      <th>Q (cms)</th>\n",
       "      <th>SerDates</th>\n",
       "      <th>WY</th>\n",
       "    </tr>\n",
       "  </thead>\n",
       "  <tbody>\n",
       "    <tr>\n",
       "      <th>0</th>\n",
       "      <td>2000</td>\n",
       "      <td>10</td>\n",
       "      <td>1</td>\n",
       "      <td>8.694</td>\n",
       "      <td>2000-10-01</td>\n",
       "      <td>2001</td>\n",
       "    </tr>\n",
       "    <tr>\n",
       "      <th>1</th>\n",
       "      <td>2000</td>\n",
       "      <td>10</td>\n",
       "      <td>2</td>\n",
       "      <td>9.062</td>\n",
       "      <td>2000-10-02</td>\n",
       "      <td>2001</td>\n",
       "    </tr>\n",
       "    <tr>\n",
       "      <th>2</th>\n",
       "      <td>2000</td>\n",
       "      <td>10</td>\n",
       "      <td>3</td>\n",
       "      <td>8.807</td>\n",
       "      <td>2000-10-03</td>\n",
       "      <td>2001</td>\n",
       "    </tr>\n",
       "    <tr>\n",
       "      <th>3</th>\n",
       "      <td>2000</td>\n",
       "      <td>10</td>\n",
       "      <td>4</td>\n",
       "      <td>8.779</td>\n",
       "      <td>2000-10-04</td>\n",
       "      <td>2001</td>\n",
       "    </tr>\n",
       "    <tr>\n",
       "      <th>4</th>\n",
       "      <td>2000</td>\n",
       "      <td>10</td>\n",
       "      <td>5</td>\n",
       "      <td>8.750</td>\n",
       "      <td>2000-10-05</td>\n",
       "      <td>2001</td>\n",
       "    </tr>\n",
       "    <tr>\n",
       "      <th>5</th>\n",
       "      <td>2000</td>\n",
       "      <td>10</td>\n",
       "      <td>6</td>\n",
       "      <td>8.779</td>\n",
       "      <td>2000-10-06</td>\n",
       "      <td>2001</td>\n",
       "    </tr>\n",
       "    <tr>\n",
       "      <th>6</th>\n",
       "      <td>2000</td>\n",
       "      <td>10</td>\n",
       "      <td>7</td>\n",
       "      <td>8.779</td>\n",
       "      <td>2000-10-07</td>\n",
       "      <td>2001</td>\n",
       "    </tr>\n",
       "    <tr>\n",
       "      <th>7</th>\n",
       "      <td>2000</td>\n",
       "      <td>10</td>\n",
       "      <td>8</td>\n",
       "      <td>8.722</td>\n",
       "      <td>2000-10-08</td>\n",
       "      <td>2001</td>\n",
       "    </tr>\n",
       "    <tr>\n",
       "      <th>8</th>\n",
       "      <td>2000</td>\n",
       "      <td>10</td>\n",
       "      <td>9</td>\n",
       "      <td>8.665</td>\n",
       "      <td>2000-10-09</td>\n",
       "      <td>2001</td>\n",
       "    </tr>\n",
       "    <tr>\n",
       "      <th>9</th>\n",
       "      <td>2000</td>\n",
       "      <td>10</td>\n",
       "      <td>10</td>\n",
       "      <td>8.835</td>\n",
       "      <td>2000-10-10</td>\n",
       "      <td>2001</td>\n",
       "    </tr>\n",
       "    <tr>\n",
       "      <th>6198</th>\n",
       "      <td>2017</td>\n",
       "      <td>9</td>\n",
       "      <td>20</td>\n",
       "      <td>16.481</td>\n",
       "      <td>2017-09-20</td>\n",
       "      <td>2017</td>\n",
       "    </tr>\n",
       "    <tr>\n",
       "      <th>6199</th>\n",
       "      <td>2017</td>\n",
       "      <td>9</td>\n",
       "      <td>21</td>\n",
       "      <td>17.699</td>\n",
       "      <td>2017-09-21</td>\n",
       "      <td>2017</td>\n",
       "    </tr>\n",
       "    <tr>\n",
       "      <th>6200</th>\n",
       "      <td>2017</td>\n",
       "      <td>9</td>\n",
       "      <td>22</td>\n",
       "      <td>16.651</td>\n",
       "      <td>2017-09-22</td>\n",
       "      <td>2017</td>\n",
       "    </tr>\n",
       "    <tr>\n",
       "      <th>6201</th>\n",
       "      <td>2017</td>\n",
       "      <td>9</td>\n",
       "      <td>23</td>\n",
       "      <td>15.745</td>\n",
       "      <td>2017-09-23</td>\n",
       "      <td>2017</td>\n",
       "    </tr>\n",
       "    <tr>\n",
       "      <th>6202</th>\n",
       "      <td>2017</td>\n",
       "      <td>9</td>\n",
       "      <td>24</td>\n",
       "      <td>14.980</td>\n",
       "      <td>2017-09-24</td>\n",
       "      <td>2017</td>\n",
       "    </tr>\n",
       "    <tr>\n",
       "      <th>6203</th>\n",
       "      <td>2017</td>\n",
       "      <td>9</td>\n",
       "      <td>25</td>\n",
       "      <td>14.499</td>\n",
       "      <td>2017-09-25</td>\n",
       "      <td>2017</td>\n",
       "    </tr>\n",
       "    <tr>\n",
       "      <th>6204</th>\n",
       "      <td>2017</td>\n",
       "      <td>9</td>\n",
       "      <td>26</td>\n",
       "      <td>14.216</td>\n",
       "      <td>2017-09-26</td>\n",
       "      <td>2017</td>\n",
       "    </tr>\n",
       "    <tr>\n",
       "      <th>6205</th>\n",
       "      <td>2017</td>\n",
       "      <td>9</td>\n",
       "      <td>27</td>\n",
       "      <td>14.046</td>\n",
       "      <td>2017-09-27</td>\n",
       "      <td>2017</td>\n",
       "    </tr>\n",
       "    <tr>\n",
       "      <th>6206</th>\n",
       "      <td>2017</td>\n",
       "      <td>9</td>\n",
       "      <td>28</td>\n",
       "      <td>13.847</td>\n",
       "      <td>2017-09-28</td>\n",
       "      <td>2017</td>\n",
       "    </tr>\n",
       "    <tr>\n",
       "      <th>6207</th>\n",
       "      <td>2017</td>\n",
       "      <td>9</td>\n",
       "      <td>29</td>\n",
       "      <td>13.593</td>\n",
       "      <td>2017-09-29</td>\n",
       "      <td>2017</td>\n",
       "    </tr>\n",
       "  </tbody>\n",
       "</table>\n",
       "</div>"
      ],
      "text/plain": [
       "         Y   M   D  Q (cms)   SerDates    WY\n",
       "0     2000  10   1    8.694 2000-10-01  2001\n",
       "1     2000  10   2    9.062 2000-10-02  2001\n",
       "2     2000  10   3    8.807 2000-10-03  2001\n",
       "3     2000  10   4    8.779 2000-10-04  2001\n",
       "4     2000  10   5    8.750 2000-10-05  2001\n",
       "5     2000  10   6    8.779 2000-10-06  2001\n",
       "6     2000  10   7    8.779 2000-10-07  2001\n",
       "7     2000  10   8    8.722 2000-10-08  2001\n",
       "8     2000  10   9    8.665 2000-10-09  2001\n",
       "9     2000  10  10    8.835 2000-10-10  2001\n",
       "6198  2017   9  20   16.481 2017-09-20  2017\n",
       "6199  2017   9  21   17.699 2017-09-21  2017\n",
       "6200  2017   9  22   16.651 2017-09-22  2017\n",
       "6201  2017   9  23   15.745 2017-09-23  2017\n",
       "6202  2017   9  24   14.980 2017-09-24  2017\n",
       "6203  2017   9  25   14.499 2017-09-25  2017\n",
       "6204  2017   9  26   14.216 2017-09-26  2017\n",
       "6205  2017   9  27   14.046 2017-09-27  2017\n",
       "6206  2017   9  28   13.847 2017-09-28  2017\n",
       "6207  2017   9  29   13.593 2017-09-29  2017"
      ]
     },
     "execution_count": 3,
     "metadata": {},
     "output_type": "execute_result"
    }
   ],
   "source": [
    "WY = np.zeros(len(df['Y'].index))\n",
    "WY[df['M'].values < 10] = df['Y'].values[df['M'].values < 10]\n",
    "WY[df['M'].values >= 10] = df['Y'].values[df['M'].values >= 10] + 1\n",
    "df['WY'] = WY.astype(int)\n",
    "\n",
    "qrows = np.concatenate([np.arange(0,10,1),np.arange(-11,-1,1)])\n",
    "df.iloc[qrows,:]"
   ]
  },
  {
   "cell_type": "markdown",
   "metadata": {
    "collapsed": true
   },
   "source": [
    "## Task 2. Split the dataframe into a training and test portion\n",
    "This cell..."
   ]
  },
  {
   "cell_type": "code",
   "execution_count": 17,
   "metadata": {},
   "outputs": [],
   "source": [
    "# I segment the whole dataframe into a training dataset (everything that's not Water Year 2015) and\n",
    "# a test dataset (everything that is Water Year 2015).\n",
    "df_train = df[df.WY != 2015]\n",
    "df_test  = df[df.WY == 2015]\n",
    "\n",
    "Q = df_train['Q (cms)'].values # sets discharge data in datafram to a variable"
   ]
  },
  {
   "cell_type": "markdown",
   "metadata": {},
   "source": [
    "## Task 3. Estimate the parameters of an AR(1) model using the training dataset"
   ]
  },
  {
   "cell_type": "markdown",
   "metadata": {},
   "source": [
    "### Task 3.1. Compute the autocorrelation function\n",
    "These cells calculate the autocorrelation function and partial autocorrelation function of the training dataset."
   ]
  },
  {
   "cell_type": "code",
   "execution_count": 14,
   "metadata": {},
   "outputs": [
    {
     "data": {
      "image/png": "[encoded data removed]",
      "text/plain": [
       "<matplotlib.figure.Figure at 0x1c21e59f28>"
      ]
     },
     "metadata": {},
     "output_type": "display_data"
    }
   ],
   "source": [
    "autocorrelation_plot(df_train['Q (cms)']) # this function calculates the autocorrelation coeffecient for lag = 0-6209\n",
    "plt.ylim(-0.5,1.0)\n",
    "plt.show()"
   ]
  },
  {
   "cell_type": "code",
   "execution_count": 7,
   "metadata": {},
   "outputs": [
    {
     "data": {
      "image/png": "[encoded data removed]",
      "text/plain": [
       "<matplotlib.figure.Figure at 0x1c1fd37128>"
      ]
     },
     "metadata": {},
     "output_type": "display_data"
    }
   ],
   "source": [
    "Qt = pd.Series(df_train['Q (cms)'].values,df_train['SerDates'].values)\n",
    "\n",
    "Qpacf = sm.pacf(Qt)\n",
    "\n",
    "plt.figure(figsize=(14,10))\n",
    "plt.stem(Qpacf)\n",
    "plt.ylabel('Partial Autocorrelation Function (PACF) [-]',fontsize=16)\n",
    "plt.xlabel('Lag Distance [day]',fontsize=16)\n",
    "ax = plt.gca()\n",
    "ax.tick_params('both',labelsize=16)\n",
    "plt.show()\n",
    "\n",
    "from statsmodels.graphics.tsaplots import plot_pacf\n",
    "f, axarr = plt.subplots(1, 1, figsize=(14,10))\n",
    "_ = plot_pacf(Qt,method='ols',lags=40,ax=axarr.axes)\n",
    "axarr.set_title('Statsmodel plot of PACF',fontsize=16)\n",
    "axarr.set_ylabel('Partial Autocorrelation Function (PACF) [-]',fontsize=16)\n",
    "axarr.set_xlabel('Lag Distance [day]',fontsize=16)\n",
    "axarr = plt.gca()\n",
    "axarr.tick_params('both',labelsize=16)"
   ]
  },
  {
   "cell_type": "markdown",
   "metadata": {},
   "source": [
    "### Task 3.2. Use the YW Equations to estimate the AR(1) parameters"
   ]
  },
  {
   "cell_type": "code",
   "execution_count": 25,
   "metadata": {},
   "outputs": [
    {
     "name": "stdout",
     "output_type": "stream",
     "text": [
      "0.59051767824\n",
      "0.982482380335\n"
     ]
    }
   ],
   "source": [
    "Qtrain = df_train['Q (cms)'].values\n",
    "Qtest  = df_test['Q (cms)'].values\n",
    "\n",
    "DatesTest = df_test['SerDates'].values\n",
    "\n",
    "Qttm1 = np.concatenate([Qtrain[-2:-1],Qtest[0:-1]])\n",
    "Qttm2 = np.concatenate([Qtrain[-3:-1],Qtest[0:-2]])\n",
    "\n",
    "AR1_mu   = Q_AR1_model.params[0]\n",
    "AR1_phi1 = Q_AR1_model.params[1]\n",
    "\n",
    "QhatAR1 = AR1_mu + AR1_phi1*Qttm1\n",
    "print(AR1_mu)\n",
    "print(AR1_phi1)"
   ]
  },
  {
   "cell_type": "markdown",
   "metadata": {},
   "source": [
    "### Task 3.3. Use the statsmodel AR tools to estimate the parameters based on the dataset"
   ]
  },
  {
   "cell_type": "code",
   "execution_count": 20,
   "metadata": {},
   "outputs": [
    {
     "name": "stdout",
     "output_type": "stream",
     "text": [
      "const    0.590518\n",
      "L1.y     0.982482\n",
      "dtype: float64\n"
     ]
    }
   ],
   "source": [
    "Q_AR1_model = sm.AR(Qt).fit(1)\n",
    "print(Q_AR1_model.params)"
   ]
  },
  {
   "cell_type": "markdown",
   "metadata": {},
   "source": [
    "## Task 2.1 Generate a histogram of data to understand distribution of data\n",
    "This cell creates a histogram for which I use to observe any initial thoughts about the stationarity of the time series."
   ]
  },
  {
   "cell_type": "code",
   "execution_count": null,
   "metadata": {},
   "outputs": [],
   "source": []
  },
  {
   "cell_type": "markdown",
   "metadata": {},
   "source": [
    "## Task 2.2 Compute key descriptive statistics\n",
    " To calculate statistics, I first use the \"describe\" function to obtain basic descriptive statistics for my time series data. These statistics include mean, standard deviation, minimum, 25%, 50%, and 75% quartile, as well as maximum. This function can be found in the Pandas library. After that, I calculate the same statistics using a different method."
   ]
  },
  {
   "cell_type": "code",
   "execution_count": null,
   "metadata": {},
   "outputs": [],
   "source": []
  },
  {
   "cell_type": "code",
   "execution_count": null,
   "metadata": {},
   "outputs": [],
   "source": []
  },
  {
   "cell_type": "markdown",
   "metadata": {},
   "source": [
    "## Task 3.1 Compute and report the slope of a regression line \n",
    "The following cell generates a least squares polynomial fit of the time series data and reports the linear regression function including the slope. Following that calculation, I plot the data with the linear regression. Worth noting is the slope of the regression line. This is significant because it initially appears the data is not stationary based on the non-zero slope."
   ]
  },
  {
   "cell_type": "code",
   "execution_count": null,
   "metadata": {},
   "outputs": [],
   "source": []
  },
  {
   "cell_type": "markdown",
   "metadata": {},
   "source": [
    "## Task 3.2 Compute and report the Augmented Dickey-Fuller test\n",
    "Following the computation of the linear regression, I also perform a Augmented Dickey-Fuller (ADF) Test to assess the stationarity of the data in the following cell."
   ]
  },
  {
   "cell_type": "code",
   "execution_count": null,
   "metadata": {},
   "outputs": [],
   "source": []
  },
  {
   "cell_type": "markdown",
   "metadata": {},
   "source": [
    "## Task 4.1 Compute and plot autocorrelation function (2 methods)\n",
    "As we learned in class, there are multiple ways to compute and plot the autocorrelation function. In this notebook, I calculate the autocorrelation two ways which can be seen in the following cells."
   ]
  },
  {
   "cell_type": "code",
   "execution_count": null,
   "metadata": {},
   "outputs": [],
   "source": [
    "autocorrelation_plot(df['Q']) # this function calculates the autocorrelation coeffecient for lag = 0-6209\n",
    "plt.ylim(-0.5,1.0)\n",
    "plt.show()"
   ]
  },
  {
   "cell_type": "code",
   "execution_count": null,
   "metadata": {},
   "outputs": [],
   "source": [
    "Nk2 = 6209 # Length of data series (days)\n",
    "K2 = np.arange(0,Nk2,1)\n",
    "\n",
    "Qp = Q - np.mean(Q) # normalize data\n",
    "\n",
    "autocovs2 = np.correlate(Qp, Qp, mode='full') # Cross correlation of normalized data\n",
    "N = autocovs2.size\n",
    "autocovs2_oneside = autocovs2[N//2:]\n",
    "autocorrs2_oneside = autocovs2_oneside/autocovs2_oneside[0]\n",
    "\n",
    "plt.figure(figsize=(14,10)) # plot of autocorrelation function using a second method\n",
    "plt.plot(K2,autocorrs2_oneside[0:Nk2],'-')\n",
    "plt.ylim(-1.0,1.0)\n",
    "plt.xlim(0.0,np.amax(K2.astype(float)))\n",
    "plt.title('Autocorrelation function of MF Boise discharge',fontsize=16)\n",
    "plt.xlabel('Lag distance [days]',fontsize=16)\n",
    "plt.ylabel('Autocorrelation coefficient [-]',fontsize=16)\n",
    "plt.show()"
   ]
  },
  {
   "cell_type": "markdown",
   "metadata": {},
   "source": [
    "## Task 5 Discussion\n",
    "Assessing trends of this time series dataset indicate a few important things worth noting. First, the histogram shows a very right skewed distribution. This seems to be the tendency of an unregulated river environemnt with a hydrograph heavily influenced by snowmelt. A majority of the data in the MF Boise River populates the left side of the histogram. Also, by fitting a linear regression to the data, I recognize the slope of the regression line is slightly positive. Environmental factors are likely to be blamed for this trend (i.e. snowpack, rainfall, etc). If the data is not detrended, we lose focuse on how the data fluctuates around the apparent trend. However, I think it's important to recognize this trend and how it's applied to physical concepts of hydrologic data. Since we see an increasing trend in the data, it makes sense that the autocorrelation coefficient pinches off to zero through a lag of 6209 days beacuse flows are generally increasing throughout the time series, an indicator of how flows are behaving more recently. Finally, the ADF test indicates that this data is wide sense stationarity."
   ]
  }
 ],
 "metadata": {
  "kernelspec": {
   "display_name": "Python 3",
   "language": "python",
   "name": "python3"
  },
  "language_info": {
   "codemirror_mode": {
    "name": "ipython",
    "version": 3
   },
   "file_extension": ".py",
   "mimetype": "text/x-python",
   "name": "python",
   "nbconvert_exporter": "python",
   "pygments_lexer": "ipython3",
   "version": "3.6.3"
  }
 },
 "nbformat": 4,
 "nbformat_minor": 2
}
