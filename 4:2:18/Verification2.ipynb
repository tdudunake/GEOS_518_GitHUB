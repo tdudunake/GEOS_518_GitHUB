{
 "cells": [
  {
   "cell_type": "code",
   "execution_count": 1,
   "metadata": {
    "collapsed": true
   },
   "outputs": [],
   "source": [
    "import numpy as np"
   ]
  },
  {
   "cell_type": "code",
   "execution_count": 16,
   "metadata": {},
   "outputs": [
    {
     "name": "stdout",
     "output_type": "stream",
     "text": [
      "[[ 2.  3.]\n",
      " [ 1. -4.]]\n",
      "(2, 2)\n",
      "[[ 1.  2.]\n",
      " [ 5. -5.]]\n",
      "(2, 2)\n"
     ]
    }
   ],
   "source": [
    "C = np.array([[2.0, 3.0], [1.0, -4.0]])\n",
    "D = np.array([[1.0, 2.0], [5.0, -5.0]])\n",
    "\n",
    "print(C)\n",
    "print(C.shape)\n",
    "print(D)\n",
    "print(D.shape)"
   ]
  },
  {
   "cell_type": "code",
   "execution_count": 17,
   "metadata": {},
   "outputs": [
    {
     "data": {
      "text/plain": [
       "array([[ 1.,  5.],\n",
       "       [ 2., -5.]])"
      ]
     },
     "execution_count": 17,
     "metadata": {},
     "output_type": "execute_result"
    }
   ],
   "source": [
    "D.T"
   ]
  },
  {
   "cell_type": "code",
   "execution_count": 18,
   "metadata": {},
   "outputs": [
    {
     "name": "stdout",
     "output_type": "stream",
     "text": [
      "[[ 3.  5.]\n",
      " [ 6. -9.]]\n"
     ]
    }
   ],
   "source": [
    "print(C + D)"
   ]
  },
  {
   "cell_type": "code",
   "execution_count": 19,
   "metadata": {},
   "outputs": [
    {
     "name": "stdout",
     "output_type": "stream",
     "text": [
      "[[ 17. -11.]\n",
      " [-19.  22.]]\n"
     ]
    }
   ],
   "source": [
    "print(C @ D)"
   ]
  },
  {
   "cell_type": "code",
   "execution_count": 21,
   "metadata": {},
   "outputs": [
    {
     "name": "stdout",
     "output_type": "stream",
     "text": [
      "[[ 17. -11.]\n",
      " [-19.  22.]]\n"
     ]
    }
   ],
   "source": [
    "print(np.dot(C,D))"
   ]
  },
  {
   "cell_type": "code",
   "execution_count": 25,
   "metadata": {},
   "outputs": [],
   "source": [
    "E = np.zeros((100, 100))"
   ]
  },
  {
   "cell_type": "code",
   "execution_count": 29,
   "metadata": {},
   "outputs": [
    {
     "name": "stdout",
     "output_type": "stream",
     "text": [
      "[[ 5.  5.  5. ...,  5.  5.  5.]\n",
      " [ 5.  5.  5. ...,  5.  5.  5.]\n",
      " [ 5.  5.  5. ...,  5.  5.  5.]\n",
      " ..., \n",
      " [ 5.  5.  5. ...,  5.  5.  5.]\n",
      " [ 5.  5.  5. ...,  5.  5.  5.]\n",
      " [ 5.  5.  5. ...,  5.  5.  5.]]\n"
     ]
    }
   ],
   "source": [
    "F = 5.0 * np.ones((100, 100))\n",
    "print(F)"
   ]
  },
  {
   "cell_type": "code",
   "execution_count": 31,
   "metadata": {},
   "outputs": [
    {
     "name": "stdout",
     "output_type": "stream",
     "text": [
      "[[ nan  nan  nan ...,  nan  nan  nan]\n",
      " [ nan  nan  nan ...,  nan  nan  nan]\n",
      " [ nan  nan  nan ...,  nan  nan  nan]\n",
      " ..., \n",
      " [ nan  nan  nan ...,  nan  nan  nan]\n",
      " [ nan  nan  nan ...,  nan  nan  nan]\n",
      " [ nan  nan  nan ...,  nan  nan  nan]]\n"
     ]
    }
   ],
   "source": [
    "H = np.nan * np.ones((100, 100))\n",
    "print(H)"
   ]
  },
  {
   "cell_type": "code",
   "execution_count": 40,
   "metadata": {},
   "outputs": [
    {
     "name": "stdout",
     "output_type": "stream",
     "text": [
      "[[ 2.  0.  0.]\n",
      " [ 0.  2.  0.]\n",
      " [ 0.  0.  2.]]\n",
      "[[ 0. -1.  0.]\n",
      " [ 0.  0. -1.]\n",
      " [ 0.  0.  0.]]\n",
      "[[ 0.  0.  0.]\n",
      " [-1.  0.  0.]\n",
      " [ 0. -1.  0.]]\n"
     ]
    }
   ],
   "source": [
    "T = np.diagflat(2.0*np.ones((3,1)))\n",
    "Tp1 = np.diagflat(-1.0*np.ones((2,1)), 1)\n",
    "Tm1 = np.diagflat(-1.0*np.ones((2,1)),-1)\n",
    "\n",
    "print(T)\n",
    "print(Tp1)\n",
    "print(Tm1)"
   ]
  },
  {
   "cell_type": "code",
   "execution_count": 41,
   "metadata": {},
   "outputs": [
    {
     "name": "stdout",
     "output_type": "stream",
     "text": [
      "[[ 2. -1.  0.]\n",
      " [-1.  2. -1.]\n",
      " [ 0. -1.  2.]]\n"
     ]
    }
   ],
   "source": [
    "print(T + Tp1 + Tm1)"
   ]
  },
  {
   "cell_type": "code",
   "execution_count": null,
   "metadata": {
    "collapsed": true
   },
   "outputs": [],
   "source": []
  }
 ],
 "metadata": {
  "kernelspec": {
   "display_name": "Python 3",
   "language": "python",
   "name": "python3"
  },
  "language_info": {
   "codemirror_mode": {
    "name": "ipython",
    "version": 3
   },
   "file_extension": ".py",
   "mimetype": "text/x-python",
   "name": "python",
   "nbconvert_exporter": "python",
   "pygments_lexer": "ipython3",
   "version": "3.6.3"
  }
 },
 "nbformat": 4,
 "nbformat_minor": 2
}
