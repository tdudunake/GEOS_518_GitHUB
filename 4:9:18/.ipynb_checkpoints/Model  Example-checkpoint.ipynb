{
 "cells": [
  {
   "cell_type": "markdown",
   "metadata": {},
   "source": [
    "# A simple Bucket Hydrology Model\n",
    "## April 9, 2018"
   ]
  },
  {
   "cell_type": "code",
   "execution_count": null,
   "metadata": {
    "collapsed": true
   },
   "outputs": [],
   "source": [
    "import numpy as np\n",
    "import matplotlib.pyplot as plt"
   ]
  },
  {
   "cell_type": "code",
   "execution_count": null,
   "metadata": {},
   "outputs": [],
   "source": [
    "Nt = 100\n",
    "dt = 1.0\n",
    "\n",
    "P = np.zeros((Nt, 1))\n",
    "P[19:39] = 4.0\n",
    "print(P.shape)\n",
    "\n",
    "t = np.arange(1, Nt+1, 1)\n",
    "print(t.shape)"
   ]
  },
  {
   "cell_type": "code",
   "execution_count": null,
   "metadata": {},
   "outputs": [],
   "source": [
    "plt.figure(1)\n",
    "plt.bar(t, P)\n",
    "plt.ylabel('Precipitation [mm/d]')\n",
    "plt.xlabel('Time [d]')\n",
    "plt.show"
   ]
  },
  {
   "cell_type": "code",
   "execution_count": null,
   "metadata": {},
   "outputs": [],
   "source": [
    "k1 = 0.02     #Drainage coefficient in units of day^-1\n",
    "W1_0 = 250.0  #Water storage in units of mm\n",
    "\n",
    "# Initializing a data container for water storage at each time step\n",
    "W1 = np.zeros(t.shape)\n",
    "\n",
    "# Update initial condition\n",
    "W1[0] = W1_0\n",
    "\n",
    "# Initializing a data container for our discharge at each time step\n",
    "Q = np.zeros(t.shape)\n",
    "\n",
    "# Update initial condition\n",
    "Q[0] = k1*W1[0]\n",
    "\n",
    "# The main loop\n",
    "for i in np.arange(1, Nt, 1):\n",
    "    \n",
    "    # Compute the value of the derivatives\n",
    "    dW1dt = P[i-1] - k1*W1[i-1]\n",
    "    \n",
    "    # Compute the next value of W\n",
    "    W[i] = W[i-1] + dW1dt*dt\n",
    "    \n",
    "    # Compute the next value of Q\n",
    "    Q[i] = k1*W1[i]"
   ]
  },
  {
   "cell_type": "code",
   "execution_count": null,
   "metadata": {},
   "outputs": [],
   "source": [
    "plt.figure(2)\n",
    "plt.subplot(311)\n",
    "plt.bar(t, P)\n",
    "plt.subplot(312)\n",
    "plt.plot(t, W1)\n",
    "plt.subplot(313)\n",
    "plt.plot(t, Q)\n",
    "plot.show()"
   ]
  },
  {
   "cell_type": "code",
   "execution_count": null,
   "metadata": {
    "collapsed": true
   },
   "outputs": [],
   "source": []
  }
 ],
 "metadata": {
  "kernelspec": {
   "display_name": "Python 3",
   "language": "python",
   "name": "python3"
  },
  "language_info": {
   "codemirror_mode": {
    "name": "ipython",
    "version": 3
   },
   "file_extension": ".py",
   "mimetype": "text/x-python",
   "name": "python",
   "nbconvert_exporter": "python",
   "pygments_lexer": "ipython3",
   "version": "3.6.3"
  }
 },
 "nbformat": 4,
 "nbformat_minor": 2
}
